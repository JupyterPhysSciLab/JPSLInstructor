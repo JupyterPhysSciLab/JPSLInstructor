{
 "cells": [
  {
   "cell_type": "code",
   "execution_count": 1,
   "id": "49f8b400",
   "metadata": {},
   "outputs": [
    {
     "data": {
      "text/html": [
       "<script type=\"text/javascript\">// Jupyter Notebook Utilities\n",
       "JPSLUtils = new Object();\n",
       "\n",
       "/*\n",
       "Cell Utilities\n",
       "*/\n",
       "\n",
       "JPSLUtils.select_containing_cell = function(elem){\n",
       "    //Create a synthetic click in the cell to force selection of the cell containing the table\n",
       "    var event = new MouseEvent('click', {\n",
       "    view: window,\n",
       "    bubbles: true,\n",
       "    cancelable: true\n",
       "    });\n",
       "    var cancelled = !elem.dispatchEvent(event);\n",
       "    if (cancelled) {\n",
       "    // A handler called preventDefault.\n",
       "    alert(\"Something is wrong. Try running the cell that creates this table.\");\n",
       "    }\n",
       "};\n",
       "\n",
       "JPSLUtils.insert_newline_at_end_of_current_cell = function(text){\n",
       "    var lastline = Jupyter.notebook.get_selected_cell().code_mirror.doc.\n",
       "        lineCount();\n",
       "    Jupyter.notebook.get_selected_cell().code_mirror.doc.setCursor(lastline,0);\n",
       "    Jupyter.notebook.get_selected_cell().code_mirror.doc.\n",
       "         replaceSelection(\"\\n\" + text);\n",
       "};\n",
       "\n",
       "JPSLUtils.insert_text_at_beginning_of_current_cell = function(text){\n",
       "    // append \\n to line insert as a separate line.\n",
       "    Jupyter.notebook.get_selected_cell().code_mirror.doc.\n",
       "           setCursor({line:0,ch:0});\n",
       "    Jupyter.notebook.get_selected_cell().code_mirror.doc.\n",
       "           replaceSelection(text);\n",
       "};\n",
       "\n",
       "/*\n",
       "input/textarea utilities\n",
       "*/\n",
       "\n",
       "JPSLUtils.record_input = function (element){\n",
       "    var nodetype = element.nodeName.toLowerCase();\n",
       "    var tempval = ''+element.value;//force to string\n",
       "    var tempsize = ''+element.size;\n",
       "    if (tempsize==null){tempsize='7'};\n",
       "    var tempclass = element.className;\n",
       "    if (tempclass==null){tempclass=''};\n",
       "    var tempid = element.id;\n",
       "    if (tempid==null){tempid=''};\n",
       "    var tempelem = document.createElement(nodetype);\n",
       "    tempelem.className =tempclass;\n",
       "    tempelem.id=tempid;\n",
       "    tempelem.setAttribute('size',tempsize);\n",
       "    if (nodetype=='input'){\n",
       "        tempelem.setAttribute('value',tempval);\n",
       "    } else {\n",
       "        tempelem.innerHTML = element.value;\n",
       "    }\n",
       "    tempelem.setAttribute('onblur','JPSLUtils.record_input(this)');\n",
       "    element.replaceWith(tempelem);\n",
       "};\n",
       "\n",
       "/*\n",
       "Python Execution\n",
       "*/\n",
       "\n",
       "JPSLUtils.executePython = function(python) {\n",
       "    return new Promise((resolve, reject) => {\n",
       "        var callbacks = {\n",
       "            iopub: {\n",
       "                output: (data) => resolve(data.content.text.trim())\n",
       "            }\n",
       "        };\n",
       "        Jupyter.notebook.kernel.execute(`print(${python})`, callbacks);\n",
       "    });\n",
       "};\n",
       "\n",
       "JPSLUtils.executePython2 = function(python) {\n",
       "    return new Promise((resolve, reject) => {\n",
       "        var callbacks = {\n",
       "            iopub: {\n",
       "                output: (data) => resolve(JSON.stringify(data, null, 4))\n",
       "            }\n",
       "        };\n",
       "        Jupyter.notebook.kernel.execute(`print(${python})`, callbacks);\n",
       "    });\n",
       "};\n",
       "\n",
       "/*\n",
       "Dialogs\n",
       "*/\n",
       "\n",
       "JPSLUtils.record_names = function(){\n",
       "    var currentcell = Jupyter.notebook.get_selected_cell();\n",
       "    var dlg = document.createElement('div');\n",
       "    dlg.setAttribute('id','get_names_dlg');\n",
       "    var tmp = document.createElement('H4');\n",
       "    var inststr = \"In the box below type your name and your partners' names\";\n",
       "    inststr += \" (one per line):\";\n",
       "    tmp.innerHTML=inststr\n",
       "    dlg.append(tmp);\n",
       "    tmp = document.createElement('div');\n",
       "    tmp.innerHTML = '<textarea cols=\"30\" onblur=\"JPSLUtils.record_input(this)\"/>';\n",
       "    dlg.append(tmp);\n",
       "    $(dlg).dialog({modal:true,\n",
       "                  close: function(){$(this).dialog('destroy')},\n",
       "                  buttons:[\n",
       "                  {text: 'Cancel',\n",
       "                  click: function(){$(this).dialog('destroy')}},\n",
       "                  {text: 'OK/Do It',\n",
       "                  click: function(){var rcrd = document.getElementById(\n",
       "                                    'Last-User');\n",
       "                                    var parent = rcrd.parentNode;\n",
       "                                    var dlg = document.getElementById(\n",
       "                                    'get_names_dlg');\n",
       "                                    var textboxes = dlg.querySelectorAll(\n",
       "                                    \"textarea\");\n",
       "                                    var tmp = document.createElement('div');\n",
       "                                    tmp.setAttribute('id','Grp-names');\n",
       "                                    tmp.\n",
       "                                    setAttribute('style','font-weight:bold;');\n",
       "                                    var refeed = /\\r?\\n|\\n\\r?|\\n/g;\n",
       "                                    var tmpstr = 'Partners: '+ textboxes[0]\n",
       "                                    .innerHTML.replace(refeed,'; ');\n",
       "                                    //tmpstr.replace(refeed,'; ');\n",
       "                                    tmp.innerHTML = tmpstr;\n",
       "                                    tmpstr = '# '+rcrd.innerHTML +'\\n# '\n",
       "                                    +tmpstr;\n",
       "                                    //rcrd.append(tmp);\n",
       "                                    JPSLUtils.\n",
       "                                    insert_newline_at_end_of_current_cell(\n",
       "                                    tmpstr);\n",
       "                                   $(this).dialog('destroy');}}\n",
       "                  ]})\n",
       "    Jupyter.notebook.focus_cell();//Make sure keyboard manager doesn't grab inputs.\n",
       "    Jupyter.notebook.keyboard_manager.enabled=false;\n",
       "    dlg.focus();\n",
       "    Jupyter.notebook.keyboard_manager.enabled=false; //Make sure keyboard manager doesn't grab inputs.\n",
       "};</script>"
      ],
      "text/plain": [
       "<IPython.core.display.HTML object>"
      ]
     },
     "metadata": {},
     "output_type": "display_data"
    },
    {
     "data": {
      "text/html": [
       "<style type=\"text/css\">/*\n",
       "Not working well with other formatting\n",
       ".input_table {\n",
       "    padding: 0.1em 0.1em!important;\n",
       "}*/\n",
       "</style>"
      ],
      "text/plain": [
       "<IPython.core.display.HTML object>"
      ]
     },
     "metadata": {},
     "output_type": "display_data"
    },
    {
     "data": {
      "text/html": [
       "<script type=\"text/javascript\">//Javascript for input_table to use in Jupyter notebook\n",
       "//Jonathan Gutow <gutow@uwosh.edu> March 24, 2019\n",
       "// updates: October 31, 2020, July 2021\n",
       "//license GPL V3 or greater.\n",
       "\n",
       "//Get input table dimensions and build\n",
       "function get_table_dim_old(){\n",
       "    Jupyter.notebook.insert_cell_below();\n",
       "    Jupyter.notebook.select_next(true);\n",
       "    Jupyter.notebook.focus_cell();\n",
       "    var currentcell = Jupyter.notebook.get_selected_cell();\n",
       "//    var htmlstr =`\n",
       "//    <div id=\"input_table_dim_dlg\" style=\"border:thick;border-color:red;border-style:solid;\">\n",
       "//      <div>Set table size remembering to include enough rows and columns for labels.</div>\n",
       "//      <table id=\"init_input_table_dim\"><tr>\n",
       "//        <td> Rows:</td><td><input id=\"init_row_dim\" type=\"text\" size=\"7\" value=\"2\"\n",
       "//          onblur=\"record_input(this)\"></input></td>\n",
       "//        <td>Columns:</td><td><input id=\"init_col_dim\" type=\"text\" size=\"7\" value=\"2\"\n",
       "//          onblur=\"record_input(this)\"></input></td>\n",
       "//        <td><button onclick=\"create_table()\">Create Table</button></td>\n",
       "//      </tr></table>\n",
       "//    </div>`\n",
       "\n",
       "    var instructions = \"Set table size remembering to include enough rows and columns for labels.\";\n",
       "    var fields = [\"Table Title (caption)\",\"Number of Rows\",\n",
       "    \"Number of Columns\"];\n",
       "    input_dialog(\"input_table_dim_dlg\", create_table,\"not used\", instructions,fields);\n",
       "    //currentcell.set_text('display(HTML(\"\"\"'+htmlstr+'\"\"\"))');\n",
       "    //currentcell.execute();\n",
       "}\n",
       "\n",
       "function get_table_dim(){\n",
       "    Jupyter.notebook.insert_cell_below();\n",
       "    Jupyter.notebook.select_next(true);\n",
       "    Jupyter.notebook.focus_cell();\n",
       "    var currentcell = Jupyter.notebook.get_selected_cell();\n",
       "    var instructions = \"Set table size remembering to include enough rows and columns for labels.\";\n",
       "    var fields = [\"Table Title (caption)\",\"Number of Rows\",\n",
       "    \"Number of Columns\"];\n",
       "    var fieldlen = [40, 15, 15]\n",
       "    var tempdialog = document.createElement('div');\n",
       "    tempdialog.setAttribute('id',\"input_table_dim_dlg\");\n",
       "    var tempinstr = document.createElement('H4');\n",
       "    tempinstr.setAttribute('style','text-align:center;');\n",
       "    tempinstr.innerHTML = instructions;\n",
       "    tempdialog.append(tempinstr);\n",
       "    for (var i = 0; i < fieldlen.length;i++){\n",
       "        var templine=document.createElement('div');\n",
       "        var inputstr = fields[i]+': ';\n",
       "        inputstr +='<input type=\"text\" size=\"'+fieldlen[i]+'\" value=\"\" ';\n",
       "        inputstr += 'onblur=\"record_input(this)\"></input>';\n",
       "        templine.innerHTML=inputstr;\n",
       "        templine.setAttribute('style','text-align:center;');\n",
       "        tempdialog.append(templine);\n",
       "    }\n",
       "    $(tempdialog).dialog({modal:true, width:400,\n",
       "                  close: function(){$(this).dialog('destroy')},\n",
       "                  buttons:[\n",
       "                  {text: 'Cancel',\n",
       "                  click: function(){$(this).dialog('destroy')}},\n",
       "                  {text: 'OK/Do It',\n",
       "                  click: function(){create_table();\n",
       "                                    $(this).dialog('destroy')}}\n",
       "                  ]\n",
       "    })\n",
       "    Jupyter.notebook.focus_cell();//Make sure keyboard manager doesn't grab inputs.\n",
       "    Jupyter.notebook.keyboard_manager.enabled=false;\n",
       "    tempdialog.focus();\n",
       "    Jupyter.notebook.keyboard_manager.enabled=false; //Make sure keyboard manager doesn't grab inputs.\n",
       "}\n",
       "\n",
       "//Update html on change of cell content.\n",
       "function record_input(element){\n",
       "    var tempval = ''+element.value;//force to string\n",
       "    var tempsize = ''+element.size;\n",
       "    if (tempsize==null){tempsize='7'};\n",
       "    var tempclass = element.className;\n",
       "    if (tempclass==null){tempclass=''};\n",
       "    var tempid = element.id;\n",
       "    if (tempid==null){tempid=''};\n",
       "    var tempelem = document.createElement('input');\n",
       "    tempelem.className =tempclass;\n",
       "    tempelem.id=tempid;\n",
       "    tempelem.setAttribute('size',tempsize);\n",
       "    tempelem.setAttribute('value',tempval);\n",
       "    tempelem.setAttribute('onblur','record_input(this)');\n",
       "    element.replaceWith(tempelem);\n",
       "}\n",
       "\n",
       "// Convert table input element to fixed value.\n",
       "function input_element_to_fixed(element){\n",
       "    var tempelem =document.createElement('span');\n",
       "    tempelem.className=element.className;\n",
       "    tempelem.innerHTML = element.value;\n",
       "    element.replaceWith(tempelem);\n",
       "}\n",
       "\n",
       "function data_cell_to_input_cell(element){\n",
       "    var tempelem=document.createElement('input');\n",
       "    var tempsize = ''+element.size;\n",
       "    if (tempsize==null){tempsize='7'};\n",
       "    tempelem.setAttribute('size',tempsize);\n",
       "    var tempid = element.id;\n",
       "    if (tempid==null){tempid=''};\n",
       "    tempelem.id=tempid;\n",
       "    tempelem.className=element.className;\n",
       "    tempelem.setAttribute('value',element.innerHTML);\n",
       "    element.replaceWith(tempelem);\n",
       "}\n",
       "\n",
       "    \n",
       "function table_menu(tableID){\n",
       "    var menu = document.createElement('select');\n",
       "    menu.classList.add('form-control');\n",
       "    menu.classList.add('table-actions');\n",
       "    var actionstr = 'var lastvalue = this.value;';\n",
       "    actionstr+='this.value = \"Table Actions\";';\n",
       "    actionstr+='if(lastvalue==\"Edit Data\"){edit_input_table(\"'+tableID+'\");}';\n",
       "    actionstr+='if(lastvalue==\"Data to Pandas...\"){data_table_to_Pandas(\"'+tableID+'\");}';\n",
       "    menu.setAttribute('onchange',actionstr);\n",
       "    var optiontxt = '<option title=\"Things you can do to this table.\">Table Actions</option>';\n",
       "    optiontxt+='<option title=\"Start editing the data.\">Edit Data</option>';\n",
       "    optiontxt+='<option title=\"Create a Panda DataFrame from table.\">Data to Pandas...</option>';\n",
       "    menu.innerHTML=optiontxt;\n",
       "    return menu\n",
       "}\n",
       "\n",
       "function lock_labels(tableID){\n",
       "//Will need to use querySelectorAll(css)\n",
       "    var parentTable = document.getElementById(tableID);\n",
       "    var labelinputs = parentTable.querySelectorAll('.table_label');\n",
       "    for(var i=0;i<labelinputs.length;i++){\n",
       "        input_element_to_fixed(labelinputs[i]);\n",
       "    }\n",
       "    var lockbtn = parentTable.querySelector('.lock_btn');\n",
       "    var tempelem = table_menu(tableID);\n",
       "    lockbtn.replaceWith(tempelem);\n",
       "    save_input_table(tableID);\n",
       "}\n",
       "\n",
       "function input_table_prestr(){\n",
       "    var prestr='# If no data table appears in the output of this cell, run the cell to display the table.\\n\\n';\n",
       "    prestr+='from IPython.display import HTML\\n';\n",
       "    prestr+='try:\\n';\n",
       "    prestr+='    import input_table\\n';\n",
       "    prestr+='except (ImportError, FileNotFoundError) as e:\\n';\n",
       "    prestr+='    print(\"Table editing will not work because `jupyter_datainputtable` module is not installed in python kernel\")\\n';\n",
       "    return prestr\n",
       "}\n",
       "\n",
       "//Create the table using the info collected in the dimension table.\n",
       "var create_table = function (){\n",
       "/*\n",
       "    var nrows = document.getElementById(\"init_row_dim\").value;\n",
       "    var ncols = document.getElementById(\"init_col_dim\").value;\n",
       "*/\n",
       "    var dialog = document.getElementById(\"input_table_dim_dlg\");\n",
       "    var inputs = dialog.querySelectorAll(\"input\");\n",
       "    var caption = inputs[0].value;\n",
       "    var nrows = inputs[1].value;\n",
       "    var ncols = inputs[2].value;\n",
       "    //alert(nrows+', '+ncols)\n",
       "    var d = new Date();\n",
       "    var ID = \"it_\"+(Math.round(d.getTime()));\n",
       "    var labelClass = \"table_label\";\n",
       "    var dataCellClass=\"data_cell\";\n",
       "    var prestr = input_table_prestr();\n",
       "    var tempstr='<table class=\"input_table\" id=\"'+ID+'\">';\n",
       "    tempstr += '<caption>'+caption+'</caption><tbody>';\n",
       "    for(var i = 0; i < nrows; i++){\n",
       "        tempstr+=' <tr class=\"input_table r'+i+'\">';\n",
       "        for(var k = 0;k < ncols; k++){\n",
       "            if (k==0 && i==0){\n",
       "                tempstr+='  <th class=\"input_table r'+i+' c'+k+'\">';\n",
       "                tempstr+='<button class=\"lock_btn\" onclick=\"lock_labels(\\\\\\''+ID+'\\\\\\')\">';\n",
       "                tempstr+='Lock Column and Row Labels</button></th>';\n",
       "            }\n",
       "            if (k==0 && i>0){\n",
       "                tempstr+='<th class=\"input_table r'+i+' c'+k+'\">';\n",
       "                tempstr+='<input class=\"'+labelClass+'\" type=\"text\" size=\"7\" value=\"'+(i-1)+'\"';\n",
       "                tempstr+=' onblur=\"record_input(this)\"></input></th>';\n",
       "            }\n",
       "            if (i==0 && k>0){\n",
       "                tempstr+='<th class=\"input_table r'+i+' c'+k+'\">';\n",
       "                tempstr+='<input class=\"'+labelClass+'\" type=\"text\" size=\"15\" value=\"Col_'+(k-1)+'\"';\n",
       "                tempstr+=' onblur=\"record_input(this)\"></input></th>';\n",
       "            }\n",
       "            if (k>0 && i>0){\n",
       "                tempstr+='  <td class=\"input_table r'+i+' c'+k+'\">';\n",
       "                tempstr+='<input class=\"'+dataCellClass+'\" type=\"text\" size=\"7\"';\n",
       "                tempstr+=' onblur=\"record_input(this)\"></input></td>';\n",
       "            }\n",
       "        }\n",
       "        tempstr+=' </tr>';\n",
       "    }\n",
       "    tempstr+='</tbody></table>';\n",
       "    var currentcell = Jupyter.notebook.get_selected_cell();\n",
       "    currentcell.set_text(prestr+'display(HTML(\\''+tempstr+'\\'))');\n",
       "    //protect the cell so user cannot edit or delete the code without knowing \n",
       "    // what they are doing.\n",
       "    currentcell.metadata.editable=false;\n",
       "    currentcell.execute();\n",
       "};\n",
       "\n",
       "//Utility function that is not used because the Jupyter notebook cell indexing is maintained\n",
       "// independently of the DOM.\n",
       "function findAncestor (el, sel) {\n",
       "    while ((el = el.parentElement) && !((el.matches || el.matchesSelector).call(el,sel)));\n",
       "    return el;\n",
       "}\n",
       "\n",
       "function select_containing_cell(elem){\n",
       "    //Create a synthetic click in the cell to force selection of the cell containing the table\n",
       "    var event = new MouseEvent('click', {\n",
       "    view: window,\n",
       "    bubbles: true,\n",
       "    cancelable: true\n",
       "    });\n",
       "    var cancelled = !elem.dispatchEvent(event);\n",
       "    if (cancelled) {\n",
       "    // A handler called preventDefault.\n",
       "    alert(\"Something is wrong. Try running the cell that creates this table.\");\n",
       "    }    \n",
       "}\n",
       "//Allow editing of the unlocked table elements.\n",
       "function edit_input_table(tableID){\n",
       "    var table = document.getElementById(tableID);\n",
       "    select_containing_cell(table); //force selection of cell containing the table.\n",
       "    var currentcell = Jupyter.notebook.get_selected_cell();\n",
       "    var datainputs = table.querySelectorAll('.data_cell');\n",
       "    for(var i=0;i<datainputs.length;i++){\n",
       "        data_cell_to_input_cell(datainputs[i]);\n",
       "    }\n",
       "    var menu = table.querySelector('.table-actions');\n",
       "    var tempelem = document.createElement('button');\n",
       "    tempelem.classList.add('save_btn');\n",
       "    var onclickstr = \"save_input_table('\"+tableID+\"');\"\n",
       "    tempelem.setAttribute('onclick',onclickstr);\n",
       "    tempelem.innerHTML='Save Data';\n",
       "    menu.replaceWith(tempelem);\n",
       "}\n",
       "\n",
       "//Save table by making the code cell create it. Actuated by button.\n",
       "//***For this to work the following import need to be made into\n",
       "//   the jupyter notebook by the python code that utilizes this function:\n",
       "//   from IPython.display import HTML\n",
       "\n",
       "function save_input_table(tableID){\n",
       "    var table = document.getElementById(tableID);\n",
       "    select_containing_cell(table); //force selection of cell containing the table.\n",
       "    var currentcell = Jupyter.notebook.get_selected_cell();\n",
       "    var datainputs = table.querySelectorAll('.data_cell');\n",
       "    for(var i=0;i<datainputs.length;i++){\n",
       "        input_element_to_fixed(datainputs[i]);\n",
       "    }\n",
       "    if(table.querySelector('.save_btn')){\n",
       "        table.querySelector('.save_btn').replaceWith(table_menu(tableID));\n",
       "    }\n",
       "    var tablecnt = table.innerHTML;\n",
       "    var tablestr= input_table_prestr();\n",
       "    tablestr+='display(HTML(\\'';\n",
       "    tablestr+='<table class=\"input_table\" id=\"'+tableID+'\">';\n",
       "    var re=/\\n/g;\n",
       "    var re2=/'/g;\n",
       "    tablestr+=tablecnt.replace(re,' ').replace(re2,'\\\\\\'')+'</table>';\n",
       "    tablestr+='\\'))';\n",
       "    currentcell.set_text(tablestr);\n",
       "    currentcell.execute();\n",
       "}\n",
       "/**\n",
       " * Utility functions for getting user input\n",
       " **/\n",
       "\n",
       " /**\n",
       " * Create a simple input dialog (modal) that does not depend on a library, but works in Jupyter.\n",
       " * @param dialogid a single word string that will be used as the dialog id to that it can be accessed in the DOM.\n",
       " * @param post_processor a function definition to be called by the do-it button (see example later in this comment).\n",
       " * @param instructions a string providing general instructions for the user or at minimum a dialog title.\n",
       " * @param fields a list of strings that will be used as the titles for the fields. The length of this list\n",
       " *               determines how many input fields the dialog will contain (1 per line).\n",
       " *\n",
       " * post_processor function must be based on the following skeleton. Replace <...> with appropriate variables or\n",
       " *  strings.\n",
       " *\n",
       " * var <name_of_post_processor> = '('+function (){\n",
       " *    var dialog = document.getElementById(\"<dialogid_string>\");\n",
       " *    var inputs = dialog.querySelectorAll('input');\n",
       " *    var values = [];\n",
       " *    for (var i=0;i<inputs.length;i++){\n",
       " *        values[i]=inputs[i].value;\n",
       " *    }\n",
       " *    var info = dialog.querySelectorAll('#post_pr_info')[0].innerHTML;\n",
       " *    dialog.remove();\n",
       " *    <code to use the items in values and post_pr_info> //order of items is\n",
       " *    the same as the fields list.\n",
       " *}+')();';\n",
       " *\n",
       " **/\n",
       "function input_dialog(dialogid, post_processor, post_pr_info, instructions,fields){\n",
       "    var backdialog = document.createElement('div');\n",
       "    backdialog.setAttribute('id',\"background_div\")\n",
       "    var stylestr = 'position:fixed;left:0%;top:0%;width:100%;height:100%;z-index:-1;';\n",
       "    stylestr+='background-color:white;opacity:60%;';\n",
       "    backdialog.setAttribute('style',stylestr);\n",
       "    var tempdialog = document.createElement('div');\n",
       "    stylestr = 'position:fixed;left:20%;';\n",
       "    stylestr+='top:25%;width:60%;z-index:99;background-color:navajowhite;opacity:100%!important;';\n",
       "    stylestr+='border-style:solid!important;border:thick;border-color:red;';\n",
       "    tempdialog.setAttribute('style',stylestr);\n",
       "    tempdialog.setAttribute('id',dialogid);\n",
       "    if (instructions!=''){\n",
       "        var tempinstr = document.createElement('H3');\n",
       "        tempinstr.setAttribute('style','text-align:center;');\n",
       "        tempinstr.innerHTML = instructions;\n",
       "        tempdialog.append(tempinstr);\n",
       "    }\n",
       "    for (var i=0;i<fields.length;i++){\n",
       "        var templine=document.createElement('p');\n",
       "        templine.innerHTML = fields[i]+': ';\n",
       "        var fieldstr = fields[i].replace(' ','_').replace('\\'','').replace('/','_').replace('*','_').replace('\\\"','_');\n",
       "        var inputstr = '<input id=\"'+fieldstr+'\" type=\"text\" size=\"30\" value=\"\" ';\n",
       "        inputstr += 'onblur=\"record_input(this)\"></input>';\n",
       "        templine.innerHTML+=inputstr;\n",
       "        templine.setAttribute('style','text-align:center;');\n",
       "        tempdialog.append(templine);\n",
       "    }\n",
       "    var tempinfo = document.createElement('div');\n",
       "    tempinfo.setAttribute('id','post_pr_info');\n",
       "    tempinfo.setAttribute('hidden', true);\n",
       "    tempinfo.innerHTML = post_pr_info;\n",
       "    tempdialog.append(tempinfo);\n",
       "    var cancel_btn = document.createElement('button');\n",
       "    cancel_btn.innerHTML = \"CANCEL\"\n",
       "    var onclickstr = 'document.getElementById(\"'+dialogid+'\").remove()';\n",
       "    cancel_btn.setAttribute('onclick',onclickstr);\n",
       "    tempdialog.append(cancel_btn);\n",
       "    var save_btn = document.createElement('button');\n",
       "    save_btn.setAttribute('onclick',post_processor);\n",
       "    save_btn.innerHTML = \"OK/Do-It\"\n",
       "    tempdialog.append(save_btn);\n",
       "    tempdialog.append(backdialog);\n",
       "    document.body.append(tempdialog);\n",
       "    Jupyter.notebook.focus_cell();//Make sure keyboard manager doesn't grab inputs.\n",
       "    Jupyter.notebook.keyboard_manager.enabled=false; \n",
       "    tempdialog.focus();\n",
       "    Jupyter.notebook.keyboard_manager.enabled=false; //Make sure keyboard manager doesn't grab inputs.\n",
       "}\n",
       "\n",
       "function checkfornumpy_startTblToDF(tableID, DFname){\n",
       "    //tableID is to be passed on to later functions in this chain\n",
       "    var parentTable = document.getElementById(tableID);\n",
       "    //Make sure the cell containing the table is selected by Jupyter.\n",
       "    JPSLUtils.select_containing_cell(parentTable);\n",
       "    Jupyter.notebook.insert_cell_below();\n",
       "    Jupyter.notebook.select_next(true);\n",
       "    Jupyter.notebook.focus_cell();\n",
       "    var execstr = '\"'+tableID+'\",\"'+DFname+'\",str(input_table.JPSLUtils.havenp())';\n",
       "    //alert('checkfornumpy_startTblToDF: '+execstr);\n",
       "    JPSLUtils.executePython(execstr).then(result => fixnp_checkpd(result));\n",
       "}\n",
       "\n",
       "function fixnp_checkpd(result){\n",
       "    // result is comma separate list from the last execution element 0 should\n",
       "    // be the tableID and element 1 should be the results of havenp().\n",
       "    var results = result.split(' ');\n",
       "    //alert(results)\n",
       "    //Make sure proper cell is selected.\n",
       "    var parentTable = document.getElementById(results[0]);\n",
       "    JPSLUtils.select_containing_cell(parentTable);\n",
       "    Jupyter.notebook.select_next(true);\n",
       "    Jupyter.notebook.focus_cell();\n",
       "    if (results[2]!='True'){\n",
       "        var templine = 'import numpy as np # numpy not imported previously.';\n",
       "        JPSLUtils.insert_text_at_beginning_of_current_cell(templine);\n",
       "    }\n",
       "    var execstr = '\"'+results[0]+'\",\"'+results[1]+'\",str(input_table.JPSLUtils.havepd())';\n",
       "    //alert('fixnp_checkpd: '+execstr);\n",
       "    JPSLUtils.executePython(execstr).then(result => fixpd_makeDF(result));\n",
       "}\n",
       "\n",
       "function fixpd_makeDF(result){\n",
       "    // result is comma separate list from the last execution element 0 should\n",
       "    // be the tableID and element 1 should be the results of havenp().\n",
       "    var results = result.split(' ');\n",
       "    //Make sure proper cell is selected.\n",
       "    var parentTable = document.getElementById(results[0]);\n",
       "    JPSLUtils.select_containing_cell(parentTable);\n",
       "    Jupyter.notebook.select_next(true);\n",
       "    Jupyter.notebook.focus_cell();\n",
       "    if (results[2]!='True'){\n",
       "        var templine = 'import pandas as pd # pandas not imported previously.';\n",
       "        JPSLUtils.insert_newline_at_end_of_current_cell(templine);\n",
       "    }\n",
       "     //info = dialog.querySelectorAll('#post_pr_info')[0].innerHTML;\n",
       "     //dialog.remove();\n",
       " //    <code to use the items in values and post_pr_info> //order of items is\n",
       " //    the same as the fields list.\n",
       "    var rows = parentTable.querySelectorAll('tr');\n",
       "    var nrows = rows.length;\n",
       "    var ncols = rows[0].querySelectorAll('th').length;\n",
       "    var colnames = [];\n",
       "    var escnamestr = []\n",
       "    var data = [];\n",
       "    //sort data into columns\n",
       "    for(var i=1;i<ncols;i++){\n",
       "        var classstr='.c'+i\n",
       "        colnames[i-1]=rows[0].querySelector(classstr).querySelector(\".table_label\").innerHTML;\n",
       "        escnamestr[i-1] = colnames[i-1].replaceAll(' ','_').replaceAll('(','_')\n",
       "        .replaceAll(')','_').replaceAll('/','_').replaceAll('*','_').replaceAll('+','_')\n",
       "        .replaceAll('-','_').replaceAll('^','_').replaceAll('$','')\n",
       "        .replaceAll('{','_').replaceAll('}','_');\n",
       "        var tempcol =[];\n",
       "        for (var k=1;k<nrows;k++){\n",
       "            classstr = '.r'+k+'.c'+i;\n",
       "            tempcol[k-1] = rows[k].querySelector(classstr).querySelector(\".data_cell\").innerHTML;\n",
       "            alphare = /[a-zA-Z]/\n",
       "            if (alphare.test(tempcol[k-1])){\n",
       "                tempcol[k-1]='\\''+tempcol[k-1]+'\\'';\n",
       "            }\n",
       "            if (tempcol[k-1]==''){\n",
       "                tempcol[k-1]='np.nan';\n",
       "            }\n",
       "            nanre = /np\\.nan/i\n",
       "            if(nanre.test(tempcol[k-1])){\n",
       "                tempcol[k-1]='np.nan';\n",
       "            }\n",
       "\n",
       "        }\n",
       "        data[i-1]=tempcol;\n",
       "    }\n",
       "    //get indexes if they are not just numeric\n",
       "    use_indexes = false;\n",
       "    var indexes = [];\n",
       "    for (var i = 1; i < nrows;i++){\n",
       "        var classstr = '.r'+i+' .c0';\n",
       "        indexes[i-1] = parentTable.querySelector(classstr).querySelector(\".table_label\").innerHTML;\n",
       "        if (indexes[i-1] != (i-1)){use_indexes = true;}\n",
       "    }\n",
       "    var pythoncode = \"\";\n",
       "    var dataframe_param = \"{\\\"\"+colnames[0]+\"\\\":\"+escnamestr[0]+\",\\n\";\n",
       "    for (var i=0;i<(ncols-1);i++){\n",
       "        pythoncode += escnamestr[i]+\"=[\"+data[i]+\"]\\n\";\n",
       "        if (i>0){dataframe_param +=\"    \\\"\"+colnames[i]+\"\\\":\"+escnamestr[i]+\",\\n\";}\n",
       "    }\n",
       "    dataframe_param +=\"    }\"\n",
       "    if (use_indexes){\n",
       "        dataframe_param +=\", index = [\";\n",
       "        for (var i = 0; i < indexes.length;i++){\n",
       "            dataframe_param += \"\\\"\"+indexes[i]+\"\\\", \";\n",
       "        }\n",
       "        dataframe_param += \"]\";\n",
       "    }\n",
       "    pythoncode += results[1]+ \"= pd.DataFrame(\"+dataframe_param+\")\\n\";\n",
       "    pythoncode += \"print('DataFrame `\"+results[1]+\"`:')\\n\";\n",
       "    pythoncode += results[1];\n",
       "\n",
       "\n",
       "    // Insert code into cell. Load with Python code that is non-coder readable.\n",
       "    //Make sure the proper cell is still selected.\n",
       "    JPSLUtils.select_containing_cell(parentTable);\n",
       "    Jupyter.notebook.select_next(true);\n",
       "    Jupyter.notebook.focus_cell();\n",
       "\n",
       "    // Run the cell to create the DataFrame.\n",
       "    JPSLUtils.insert_newline_at_end_of_current_cell(pythoncode);\n",
       "   Jupyter.notebook.get_selected_cell().execute();\n",
       " }\n",
       "\n",
       "\n",
       "function data_table_to_Pandas(tableID){\n",
       "    // Use dialog to get user choice for name of the DataFrame. Assumes Pandas import as `pd`.\n",
       "    var instructions = \"Provide a one-word name for the Pandas DataFrame:\";\n",
       "    var fields = [\"Name\"];\n",
       "    var fieldlen = [30];\n",
       "    //input_dialog(\"DFName_dia\", table_data_to_named_DF, tableID, instructions,fields);\n",
       "    var tempdialog = document.createElement('div');\n",
       "    tempdialog.setAttribute('id',\"DFName_dia\");\n",
       "    var tempinstr = document.createElement('H4');\n",
       "    tempinstr.setAttribute('style','text-align:center;');\n",
       "    tempinstr.innerHTML = instructions;\n",
       "    tempdialog.append(tempinstr);\n",
       "    for (var i = 0; i < fieldlen.length;i++){\n",
       "        var templine=document.createElement('div');\n",
       "        var inputstr = fields[i]+': ';\n",
       "        inputstr +='<input type=\"text\" size=\"'+fieldlen[i]+'\" value=\"\" ';\n",
       "        inputstr += 'onblur=\"record_input(this)\"></input>';\n",
       "        templine.innerHTML=inputstr;\n",
       "        templine.setAttribute('style','text-align:center;');\n",
       "        tempdialog.append(templine);\n",
       "    }\n",
       "    $(tempdialog).dialog({modal:true,\n",
       "                  close: function(){$(this).dialog('destroy')},\n",
       "                  buttons:[\n",
       "                  {text: 'Cancel',\n",
       "                  click: function(){$(this).dialog('destroy')}},\n",
       "                  {text: 'OK/Do It',\n",
       "                  click: function(){var DFname = tempdialog.querySelector('input').value;\n",
       "                                   checkfornumpy_startTblToDF(tableID, DFname);\n",
       "                                   $(this).dialog('destroy');}}\n",
       "                  ]\n",
       "    })\n",
       "    Jupyter.notebook.focus_cell();//Make sure keyboard manager doesn't grab inputs.\n",
       "    Jupyter.notebook.keyboard_manager.enabled=false;\n",
       "    tempdialog.focus();\n",
       "    Jupyter.notebook.keyboard_manager.enabled=false; //Make sure keyboard manager doesn't grab inputs.\n",
       "}\n",
       "\n",
       "function csv_to_data_table(csv){\n",
       "/**\n",
       "* @param csv comma separated string of values each row ending with a '\\n'.\n",
       "*   First row and column interpreted as headers.\n",
       "*\n",
       "*   This creates the code to put into a Jupyter code cell to create the table\n",
       "*   and then executes the cell. This is very similar to create_table, but\n",
       "*   including values in the cells.\n",
       "**/\n",
       "    var prestr = input_table_prestr()\n",
       "    var d = new Date();\n",
       "    var ID = \"it_\"+(Math.round(d.getTime()));\n",
       "    var labelClass = \"table_label\";\n",
       "    var dataCellClass=\"data_cell\";\n",
       "    var menu = table_menu(ID);\n",
       "//TODO: Complete csv to data table JS?\n",
       "\n",
       "}</script>"
      ],
      "text/plain": [
       "<IPython.core.display.HTML object>"
      ]
     },
     "metadata": {},
     "output_type": "display_data"
    },
    {
     "data": {
      "text/html": [
       "<script type=\"text/javascript\">function createInstructorToolsMenu(){\n",
       "    var donotinstall = Jupyter.notebook.metadata.noinstructortool;\n",
       "    if (donotinstall){\n",
       "        alert('Instructor Tools may not be installed in this notebook!');\n",
       "        deleteInstructorToolsMenuPerm();\n",
       "        return;\n",
       "    }\n",
       "    if(!document.getElementById('InstructorToolsmnu')){\n",
       "        var newselect=document.createElement('select');\n",
       "        newselect.id = 'InstructorToolsmnu';\n",
       "        newselect.classList.add('form-control'); //class to match notebook formatting\n",
       "        newselect.classList.add('select-xs'); //class to match notebook formatting\n",
       "        newselect.onchange=function(){\n",
       "            var lastvalue = this.value;\n",
       "            this.value='Instructor Tools';\n",
       "            if (lastvalue=='Insert Data Entry Table...'){\n",
       "                get_table_dim();\n",
       "            }\n",
       "            if (lastvalue=='Protect Selected Cells'){\n",
       "                protect_selected_cells();\n",
       "            }\n",
       "            if (lastvalue=='Deprotect Selected Cells'){\n",
       "                deprotect_selected_cells();\n",
       "            }\n",
       "            if (lastvalue=='Indicate Protected Cells'){\n",
       "                mark_protected_cells();\n",
       "            }\n",
       "            if (lastvalue=='Insert get names and timestamp'){\n",
       "                insert_getnames_timestamp();\n",
       "            }\n",
       "            if (lastvalue=='Deactivate this menu'){\n",
       "                deleteInstructorToolsMenu();\n",
       "            }\n",
       "            if (lastvalue=='!deactivate permanently!'){\n",
       "                deleteInstructorToolsMenuPerm();\n",
       "            }\n",
       "            if (lastvalue=='Insert initialization boilerplate'){\n",
       "                insert_init_boilerplate();\n",
       "            }\n",
       "        }\n",
       "        var optiontxt = '<option title=\"Insert an Instructor Tool\">Instructor Tools</option>';\n",
       "        optiontxt+='<option title=\"Insert cell below selected and create a data entry table.\">Insert Data Entry Table...</option>';\n",
       "        optiontxt+='<option title=\"Prevent editting of selected cells.\">Protect Selected Cells</option>';\n",
       "        optiontxt+='<option title=\"Allow editting of selected cells.\">Deprotect Selected Cells</option>';\n",
       "        optiontxt+='<option title=\"Temporarily highlight protected cells in pink.\">Indicate Protected Cells</option>';\n",
       "        optiontxt+='<option disabled>----</option>';\n",
       "        optiontxt+='<option title=\"Insert get names and timestamp function into current cell. Also locks the cell to editing.\">';\n",
       "        optiontxt+='Insert get names and timestamp</option>';\n",
       "        optiontxt+='<option title=\"Insert boilerplate about initialization in next cell\">Insert initialization boilerplate</option>';\n",
       "        optiontxt+='<option title=\"Remove/deactivate this menu. Use python command `import InstructorTools` to reactivate\">';\n",
       "        optiontxt+='Deactivate this menu</option>';\n",
       "        optiontxt+='<option title=\"Remove menu permanently. Blocks reinstalling.\">';\n",
       "        optiontxt+='!deactivate permanently!</option>';\n",
       "        newselect.innerHTML=optiontxt;\n",
       "        document.getElementById('maintoolbar-container').appendChild(newselect);\n",
       "    }\n",
       "}\n",
       "\n",
       "function deleteInstructorToolsMenu(){\n",
       "    if(document.getElementById('InstructorToolsmnu')){\n",
       "        document.getElementById('InstructorToolsmnu').remove();\n",
       "    }\n",
       "    var celllist = Jupyter.notebook.get_cells();\n",
       "    for (var i = 0;i<celllist.length;i++){\n",
       "        var should_delete = false;\n",
       "        if(celllist[i].get_text().indexOf('from InstructorTools import *') !== -1){\n",
       "            should_delete = true\n",
       "        }\n",
       "        if (celllist[i].get_text().indexOf('import InstructorTools')!== -1){\n",
       "            should_delete = true\n",
       "        }\n",
       "        if(celllist[i].get_text().indexOf('instmenu_act()') !== -1){\n",
       "            should_delete = true\n",
       "        }\n",
       "        if (should_delete){\n",
       "            //delete the cell\n",
       "            var cellindex=Jupyter.notebook.find_cell_index(celllist[i]);\n",
       "            //alert('cellindex: '+cellindex)\n",
       "            Jupyter.notebook.delete_cell(cellindex);\n",
       "        }\n",
       "    }\n",
       "}\n",
       "function deleteInstructorToolsMenuPerm(){\n",
       "    if(document.getElementById('InstructorToolsmnu')){\n",
       "        document.getElementById('InstructorToolsmnu').remove();\n",
       "    }\n",
       "    Jupyter.notebook.metadata.noinstructortool=true;\n",
       "    var celllist = Jupyter.notebook.get_cells();\n",
       "    for (var i = 0;i<celllist.length;i++){\n",
       "        if(celllist[i].get_text().indexOf('from InstructorTools import *') !== -1){\n",
       "            //delete the cell\n",
       "            var cellindex=Jupyter.notebook.find_cell_index(celllist[i]);\n",
       "            //alert('cellindex: '+cellindex)\n",
       "            Jupyter.notebook.delete_cell(cellindex);\n",
       "        }\n",
       "        if(celllist[i].get_text().indexOf('instmenu_act()') !== -1){\n",
       "            //delete the cell\n",
       "            var cellindex=Jupyter.notebook.find_cell_index(celllist[i]);\n",
       "            //alert('cellindex: '+cellindex)\n",
       "            Jupyter.notebook.delete_cell(cellindex);\n",
       "        }\n",
       "    }\n",
       "}\n",
       "\n",
       "function protect_selected_cells(){\n",
       "    var celllist = Jupyter.notebook.get_selected_cells();\n",
       "    for (var i = 0;i<celllist.length;i++){\n",
       "        celllist[i].metadata.editable=false;\n",
       "        celllist[i].element.children()[0].setAttribute(\"style\",\"background-color:pink;\");\n",
       "        }\n",
       "}\n",
       "\n",
       "function deprotect_selected_cells(){\n",
       "    var celllist = Jupyter.notebook.get_selected_cells();\n",
       "    for (var i = 0;i<celllist.length;i++){\n",
       "        celllist[i].metadata.editable=true;\n",
       "        celllist[i].element.children()[0].removeAttribute(\"style\");\n",
       "    }\n",
       "}\n",
       "\n",
       "function mark_protected_cells(){\n",
       "    var celllist = Jupyter.notebook.get_cells();\n",
       "    for (var i = 0;i<celllist.length;i++){\n",
       "        if (celllist[i].metadata.editable==false){\n",
       "        celllist[i].element.children()[0].setAttribute(\"style\",\"background-color:pink;\");\n",
       "        } else {\n",
       "        celllist[i].element.children()[0].removeAttribute(\"style\");\n",
       "        }\n",
       "    }\n",
       "}\n",
       "\n",
       "function insert_getnames_timestamp(){\n",
       "    var text = 'import JPSLUtils\\nJPSLUtils.record_names_timestamp()';\n",
       "    JPSLUtils.insert_newline_at_end_of_current_cell(text);\n",
       "    protect_selected_cells();\n",
       "}\n",
       "\n",
       "function insert_init_boilerplate(){\n",
       "    var mkdstr = \"### You must initialize the software each time you use \\\n",
       "    this notebook.\\n\";\n",
       "    mkdstr += \" 1. First, check that the notebook is \\\"Trusted\\\" by looking \\\n",
       "    near\";\n",
       "    mkdstr += \" the right of the Jupyter toolbars. If the notebook is not \\\n",
       "    trusted\";\n",
       "    mkdstr += \" you need to click on the \\\"not trusted\\\" button and trust the\";\n",
       "    mkdstr += \" notebook. **You should only trust notebooks that come from a\";\n",
       "    mkdstr += \" *trusted source*, such as the class website.**\\n\";\n",
       "    mkdstr += \" 2. The cell immediately below contains code that loads the\";\n",
       "    mkdstr += \" software modules necessary for this notebook to run. It also\";\n",
       "    mkdstr += \" collects some bookkeeping information that can be used for\";\n",
       "    mkdstr += \" troubleshooting. **You must run this cell each time you use\";\n",
       "    mkdstr += \" the notebook or later cells may not work.**\\n\";\n",
       "    mkdstr += \" 3. If you are doing calculations that depend upon\";\n",
       "    mkdstr += \" using variables passed from calculations done the previous\";\n",
       "    mkdstr += \" time the notebook was opened, you will need to run those\";\n",
       "    mkdstr += \" previous cells to redefine the variables.\\n\";\n",
       "    mkdstr += \" 4. *DO NOT run cells that contain plot displays of live data\";\n",
       "    mkdstr += \" collection, as that will restart the data collection.* You can\";\n",
       "    mkdstr += \" reload data collected from the `.csv` files  written for each\";\n",
       "    mkdstr += \" collection run. Ideally you would do this in a new notebook.\";\n",
       "\n",
       "  Jupyter.notebook.focus_cell();\n",
       "  var currentcell = Jupyter.notebook.insert_cell_below();\n",
       "  currentcell.set_text(mkdstr);\n",
       "  var cellindex=Jupyter.notebook.find_cell_index(currentcell);\n",
       "  Jupyter.notebook.to_markdown(cellindex);\n",
       "  Jupyter.notebook.focus_cell();\n",
       "  Jupyter.notebook.get_selected_cell().execute();\n",
       "}</script>"
      ],
      "text/plain": [
       "<IPython.core.display.HTML object>"
      ]
     },
     "metadata": {},
     "output_type": "display_data"
    },
    {
     "data": {
      "application/javascript": [
       "\n",
       "    if (Date.now() > 1626703373788.0781){\n",
       "        //alert('old do not run')\n",
       "    } else{\n",
       "        createInstructorToolsMenu()\n",
       "    }\n",
       "    "
      ],
      "text/plain": [
       "<IPython.core.display.Javascript object>"
      ]
     },
     "metadata": {},
     "output_type": "display_data"
    },
    {
     "name": "stdout",
     "output_type": "stream",
     "text": [
      "This cell should only contain `import InstructorTools` as it will be deleted when the tools are deactivated.\n",
      "\n",
      "WARNING: if you select the '!deactivate  permanently!' option to make a student worksheet, the menu cannot be reactivated. Only use that option on a copy you intend to pass out to students.\n"
     ]
    }
   ],
   "source": [
    "import InstructorTools"
   ]
  },
  {
   "cell_type": "markdown",
   "id": "70606926",
   "metadata": {
    "editable": false
   },
   "source": [
    "<span style=\"color:gray;\">This example Jupyter notebook embedded lab is based on the \"Measurements, Significant Digits and Density lab\" used recently in the first semester of general chemistry at UW Oshkosh. Contributors included: Mike Foley, Jonathan Gutow, Sharon Hawi, Sheri Lense, Jennifer Mihalick, George Olsen, Greg Potratz and Yijun Tang.</span>"
   ]
  },
  {
   "cell_type": "markdown",
   "id": "578f44d4",
   "metadata": {
    "editable": false
   },
   "source": [
    "### You must initialize the software each time you use     this notebook.\n",
    " 1. First, check that the notebook is \"Trusted\" by looking     near the right of the Jupyter toolbars. If the notebook is not     trusted you need to click on the \"not trusted\" button and trust the notebook. **You should only trust notebooks that come from a *trusted source*, such as the class website.**\n",
    " 2. The cell immediately below contains code that loads the software modules necessary for this notebook to run. It also collects some bookkeeping information that can be used for troubleshooting. **You must run this cell each time you open the notebook or later cells may not work.**"
   ]
  },
  {
   "cell_type": "code",
   "execution_count": 20,
   "id": "7a35d9bc",
   "metadata": {
    "editable": false
   },
   "outputs": [
    {
     "data": {
      "text/html": [
       "<div id=\"Last-User\" style=\"font-weight:bold;\">Initialization -- Computer: jonathan-XPS-13-7390 | User: jonathan | Time: Fri Jul 16 16:19:59 2021</div>"
      ],
      "text/plain": [
       "<IPython.core.display.HTML object>"
      ]
     },
     "metadata": {},
     "output_type": "display_data"
    },
    {
     "data": {
      "application/javascript": [
       "var event = new MouseEvent(\"click\", {view: window,bubbles: true,cancelable: true});var start = new Date().getTime();var elem = document.getElementById(\"Last-User\");do {elem = document.getElementById(\"Last-User\");} while ((elem == null) && (new Date().getTime() < start+5000));if (elem == null){alert(\"It took more than 5 seconds to build element.\");}var cancelled = !elem.dispatchEvent(event);if (cancelled) {alert(\"Something is wrong. Try running the cell that creates this GUI.\");}"
      ],
      "text/plain": [
       "<IPython.core.display.Javascript object>"
      ]
     },
     "metadata": {},
     "output_type": "display_data"
    },
    {
     "data": {
      "application/javascript": [
       "\n",
       "    if (Date.now() > 1626470414363.1064){\n",
       "        //alert('old do not run')\n",
       "    } else{\n",
       "        JPSLUtils.record_names()\n",
       "    }\n",
       "    "
      ],
      "text/plain": [
       "<IPython.core.display.Javascript object>"
      ]
     },
     "metadata": {},
     "output_type": "display_data"
    }
   ],
   "source": [
    "from algebra_with_sympy import *\n",
    "import JPSLUtils\n",
    "JPSLUtils.record_names_timestamp()"
   ]
  },
  {
   "cell_type": "markdown",
   "id": "24a7a2d2",
   "metadata": {
    "editable": false
   },
   "source": [
    "## Introduction\n",
    "In laboratory we make both qualitative and quantitative observations. Quantitative observations are also called measurements. Sometimes measurements only have to be approximate, but most of the time the goal is to make any laboratory measurements as precise and reproducible as possible. In order for this to happen, everybody has to take readings with the measuring devices in the same way. In this lab we will practice the proper way to use some of the measuring devices commonly encountered in a chemistry lab.\n",
    "\n",
    "Since measurements are not perfectly reproducible (two people reading from the same device may get slightly different values or the device may work slightly differently each time it is used), we also need to indicate the scale of this uncertainty. This is done using significant figures (significant digits). In this experiment you will practice recording the proper number of significant digits for each measurement. You will also practice accounting for the impact of this uncertainty on the number of significant digits available after using an uncertain number in a calculation.\n",
    "### Measuring Devices\n",
    "There are two main categories of measuring devices graduated and digital. Graduated devices have marks (graduations) on them like a ruler. Digital devices provide a numeric value for the measurement like a digital scale at the grocery. Properly reading a graduated device is more difficult than reading a digital device.\n",
    "\n",
    "_Reading Graduated Devices_: \n",
    "  1. Make sure to check which way the numbers increase and where the zero mark is.\n",
    "  2. The experience of many laboratory workers shows that humans can reliably estimate position on a graduated scale to 1/10th of the smallest division. Thus if a graduated scale is marked off in 10ths of a unit the reading should be reported to 100ths of a unit (1/10th of the smallest division). Both of the graduated measuring devices pictured below are marked off in 10ths of a unit so the measured values are reported to the 100ths place.\n",
    "  3. When liquids are measured the value is read from the bottom of the meniscus (when the surface curves down) or the top of the meniscus (when the surface curves up). See the diagram for the graduated cylinder immediately below.\n",
    "<table ><tr><td style=\"text-align:center;\">\n",
    "<img src=\"gradcyl_ctn.png\" width=\"100px\"/> Reading: 5.06 mL</td>\n",
    "<td style=\"text-align:center;\"><img src=\"ruler_ctn.png\" width=\"300px\"/>Reading: 2.44 cm</td></tr></table>\n",
    "              \n",
    "\n",
    "_Reading Digital Devices_:\n",
    "  1. If all the digits show fixed values record all digits.\n",
    "  2. If some of the smaller digits are fluctuating report the smallest (right most) digit that is not fluctuating or the average of the fluctuating digit just to the right of the right most nonfluctuating digit.\n",
    "  \n",
    "The smallest (right most) digit you report is uncertain. In this class we will assume that this right most digit represents a range that is ±1 around the reported value. So 2.467 m represents the range 2.466 – 2.468 m.\n",
    "\n",
    "### Significant Figures (Significant Digits)\n",
    "These are the number of known digits. The right most (smallest) digit is the only reported digit that is uncertain. When reading a number you can determine the number of significant digits (sometimes called significant figures) using the following rules:\n",
    "  1. Zeroes (0) on the left side of a number do not count, they are just placeholders as in 0.0012. Only the \"1\" and \"2\" are significant.\n",
    "  2. Zeroes on the right of a number with no decimal point do not count. Thus in 1200 there are only two significant digits: \"1\" and \"2\". This means the number is really only known to ± 100. It could be 1100 or 1300 or anywhere in between.\n",
    "  3. In numbers with decimal points all non-zero digits and zeroes that have a non-zero digit to their left are significant. Thus 0.0012030 has five significant digits: \"1\", \"2\", \"0\", \"3\" and \"0\".\n",
    "  \n",
    "_Scientific Notation_: This is a convenient way of writing very small and very big numbers without having to write lots of zeros that are not significant. See Section 1.4 and Appendix B of _OpenStax Chemistry_ for a longer discussion. Two examples from above:\n",
    "  * The best way to write 1200 with the proper significant digits is $1.2 \\times 10^3$.\n",
    "  * The best way to write 0.0012030 is $1.2030 \\times 10^{-3}$.\n",
    "  \n",
    "  "
   ]
  },
  {
   "cell_type": "markdown",
   "id": "75c8fade",
   "metadata": {
    "editable": false
   },
   "source": [
    "## Practice Measuring\n",
    "\n",
    "### Solid metal blocks containing 1 mole of atoms\n",
    "From the four samples provided on your bench each pair should choose one small sample and one large sample. Record the element each sample is made of in the table below. <span style=\"color:blue;\">Use the \"Table Actions\" menu to edit the table. Save after making entries.</span>"
   ]
  },
  {
   "cell_type": "code",
   "execution_count": 7,
   "id": "ad46fbec",
   "metadata": {
    "editable": false
   },
   "outputs": [
    {
     "data": {
      "text/html": [
       "<table class=\"input_table\" id=\"it_1626463360673\"><caption>Table 1: Measurement of solid blocks</caption><tbody> <tr class=\"input_table r0\">  <th class=\"input_table r0 c0\"><select class=\"form-control table-actions\" onchange=\"var lastvalue = this.value;this.value = &quot;Table Actions&quot;;if(lastvalue==&quot;Edit Data&quot;){edit_input_table(&quot;it_1626463360673&quot;);}if(lastvalue==&quot;Data to Pandas...&quot;){data_table_to_Pandas(&quot;it_1626463360673&quot;);}\"><option title=\"Things you can do to this table.\">Table Actions</option><option title=\"Start editing the data.\">Edit Data</option><option title=\"Create a Panda DataFrame from table.\">Data to Pandas...</option></select></th><th class=\"input_table r0 c1\"><span class=\"table_label\">Element</span></th><th class=\"input_table r0 c2\"><span class=\"table_label\">Length (cm)</span></th><th class=\"input_table r0 c3\"><span class=\"table_label\">Width (cm)</span></th><th class=\"input_table r0 c4\"><span class=\"table_label\">Height (cm)</span></th><th class=\"input_table r0 c5\"><span class=\"table_label\">Initial water volume (mL)</span></th><th class=\"input_table r0 c6\"><span class=\"table_label\">Final water volume (mL)</span></th><th class=\"input_table r0 c7\"><span class=\"table_label\">Mass (g)</span></th> </tr> <tr class=\"input_table r1\"><th class=\"input_table r1 c0\"><span class=\"table_label\">Sample #1</span></th>  <td class=\"input_table r1 c1\"><span class=\"data_cell\"></span></td>  <td class=\"input_table r1 c2\"><span class=\"data_cell\"></span></td>  <td class=\"input_table r1 c3\"><span class=\"data_cell\"></span></td>  <td class=\"input_table r1 c4\"><span class=\"data_cell\"></span></td>  <td class=\"input_table r1 c5\"><span class=\"data_cell\"></span></td>  <td class=\"input_table r1 c6\"><span class=\"data_cell\"></span></td>  <td class=\"input_table r1 c7\"><span class=\"data_cell\"></span></td> </tr> <tr class=\"input_table r2\"><th class=\"input_table r2 c0\"><span class=\"table_label\">Significant Digits (#1)</span></th>  <td class=\"input_table r2 c1\"><span class=\"data_cell\">XXXX</span></td>  <td class=\"input_table r2 c2\"><span class=\"data_cell\"></span></td>  <td class=\"input_table r2 c3\"><span class=\"data_cell\"></span></td>  <td class=\"input_table r2 c4\"><span class=\"data_cell\"></span></td>  <td class=\"input_table r2 c5\"><span class=\"data_cell\"></span></td>  <td class=\"input_table r2 c6\"><span class=\"data_cell\"></span></td>  <td class=\"input_table r2 c7\"><span class=\"data_cell\"></span></td> </tr> <tr class=\"input_table r3\"><th class=\"input_table r3 c0\"><span class=\"table_label\">Decimals (#1)</span></th>  <td class=\"input_table r3 c1\"><span class=\"data_cell\">XXXX</span></td>  <td class=\"input_table r3 c2\"><span class=\"data_cell\"></span></td>  <td class=\"input_table r3 c3\"><span class=\"data_cell\"></span></td>  <td class=\"input_table r3 c4\"><span class=\"data_cell\"></span></td>  <td class=\"input_table r3 c5\"><span class=\"data_cell\"></span></td>  <td class=\"input_table r3 c6\"><span class=\"data_cell\"></span></td>  <td class=\"input_table r3 c7\"><span class=\"data_cell\"></span></td> </tr> <tr class=\"input_table r4\"><th class=\"input_table r4 c0\"><span class=\"table_label\">Sample #2</span></th>  <td class=\"input_table r4 c1\"><span class=\"data_cell\"></span></td>  <td class=\"input_table r4 c2\"><span class=\"data_cell\"></span></td>  <td class=\"input_table r4 c3\"><span class=\"data_cell\"></span></td>  <td class=\"input_table r4 c4\"><span class=\"data_cell\"></span></td>  <td class=\"input_table r4 c5\"><span class=\"data_cell\"></span></td>  <td class=\"input_table r4 c6\"><span class=\"data_cell\"></span></td>  <td class=\"input_table r4 c7\"><span class=\"data_cell\"></span></td> </tr> <tr class=\"input_table r5\"><th class=\"input_table r5 c0\"><span class=\"table_label\">Significant Digits (#2)</span></th>  <td class=\"input_table r5 c1\"><span class=\"data_cell\">XXXX</span></td>  <td class=\"input_table r5 c2\"><span class=\"data_cell\"></span></td>  <td class=\"input_table r5 c3\"><span class=\"data_cell\"></span></td>  <td class=\"input_table r5 c4\"><span class=\"data_cell\"></span></td>  <td class=\"input_table r5 c5\"><span class=\"data_cell\"></span></td>  <td class=\"input_table r5 c6\"><span class=\"data_cell\"></span></td>  <td class=\"input_table r5 c7\"><span class=\"data_cell\"></span></td> </tr> <tr class=\"input_table r6\"><th class=\"input_table r6 c0\"><span class=\"table_label\">Decimals (#2)</span></th>  <td class=\"input_table r6 c1\"><span class=\"data_cell\">XXXX</span></td>  <td class=\"input_table r6 c2\"><span class=\"data_cell\"></span></td>  <td class=\"input_table r6 c3\"><span class=\"data_cell\"></span></td>  <td class=\"input_table r6 c4\"><span class=\"data_cell\"></span></td>  <td class=\"input_table r6 c5\"><span class=\"data_cell\"></span></td>  <td class=\"input_table r6 c6\"><span class=\"data_cell\"></span></td>  <td class=\"input_table r6 c7\"><span class=\"data_cell\"></span></td> </tr></tbody></table>"
      ],
      "text/plain": [
       "<IPython.core.display.HTML object>"
      ]
     },
     "metadata": {},
     "output_type": "display_data"
    }
   ],
   "source": [
    "# If no data table appears in the output of this cell, run the cell to display the table.\n",
    "\n",
    "from IPython.display import HTML\n",
    "try:\n",
    "    import input_table\n",
    "except (ImportError, FileNotFoundError) as e:\n",
    "    print(\"Table editing will not work because `jupyter_datainputtable` module is not installed in python kernel\")\n",
    "display(HTML('<table class=\"input_table\" id=\"it_1626463360673\"><caption>Table 1: Measurement of solid blocks</caption><tbody> <tr class=\"input_table r0\">  <th class=\"input_table r0 c0\"><select class=\"form-control table-actions\" onchange=\"var lastvalue = this.value;this.value = &quot;Table Actions&quot;;if(lastvalue==&quot;Edit Data&quot;){edit_input_table(&quot;it_1626463360673&quot;);}if(lastvalue==&quot;Data to Pandas...&quot;){data_table_to_Pandas(&quot;it_1626463360673&quot;);}\"><option title=\"Things you can do to this table.\">Table Actions</option><option title=\"Start editing the data.\">Edit Data</option><option title=\"Create a Panda DataFrame from table.\">Data to Pandas...</option></select></th><th class=\"input_table r0 c1\"><span class=\"table_label\">Element</span></th><th class=\"input_table r0 c2\"><span class=\"table_label\">Length (cm)</span></th><th class=\"input_table r0 c3\"><span class=\"table_label\">Width (cm)</span></th><th class=\"input_table r0 c4\"><span class=\"table_label\">Height (cm)</span></th><th class=\"input_table r0 c5\"><span class=\"table_label\">Initial water volume (mL)</span></th><th class=\"input_table r0 c6\"><span class=\"table_label\">Final water volume (mL)</span></th><th class=\"input_table r0 c7\"><span class=\"table_label\">Mass (g)</span></th> </tr> <tr class=\"input_table r1\"><th class=\"input_table r1 c0\"><span class=\"table_label\">Sample #1</span></th>  <td class=\"input_table r1 c1\"><span class=\"data_cell\"></span></td>  <td class=\"input_table r1 c2\"><span class=\"data_cell\"></span></td>  <td class=\"input_table r1 c3\"><span class=\"data_cell\"></span></td>  <td class=\"input_table r1 c4\"><span class=\"data_cell\"></span></td>  <td class=\"input_table r1 c5\"><span class=\"data_cell\"></span></td>  <td class=\"input_table r1 c6\"><span class=\"data_cell\"></span></td>  <td class=\"input_table r1 c7\"><span class=\"data_cell\"></span></td> </tr> <tr class=\"input_table r2\"><th class=\"input_table r2 c0\"><span class=\"table_label\">Significant Digits (#1)</span></th>  <td class=\"input_table r2 c1\"><span class=\"data_cell\">XXXX</span></td>  <td class=\"input_table r2 c2\"><span class=\"data_cell\"></span></td>  <td class=\"input_table r2 c3\"><span class=\"data_cell\"></span></td>  <td class=\"input_table r2 c4\"><span class=\"data_cell\"></span></td>  <td class=\"input_table r2 c5\"><span class=\"data_cell\"></span></td>  <td class=\"input_table r2 c6\"><span class=\"data_cell\"></span></td>  <td class=\"input_table r2 c7\"><span class=\"data_cell\"></span></td> </tr> <tr class=\"input_table r3\"><th class=\"input_table r3 c0\"><span class=\"table_label\">Decimals (#1)</span></th>  <td class=\"input_table r3 c1\"><span class=\"data_cell\">XXXX</span></td>  <td class=\"input_table r3 c2\"><span class=\"data_cell\"></span></td>  <td class=\"input_table r3 c3\"><span class=\"data_cell\"></span></td>  <td class=\"input_table r3 c4\"><span class=\"data_cell\"></span></td>  <td class=\"input_table r3 c5\"><span class=\"data_cell\"></span></td>  <td class=\"input_table r3 c6\"><span class=\"data_cell\"></span></td>  <td class=\"input_table r3 c7\"><span class=\"data_cell\"></span></td> </tr> <tr class=\"input_table r4\"><th class=\"input_table r4 c0\"><span class=\"table_label\">Sample #2</span></th>  <td class=\"input_table r4 c1\"><span class=\"data_cell\"></span></td>  <td class=\"input_table r4 c2\"><span class=\"data_cell\"></span></td>  <td class=\"input_table r4 c3\"><span class=\"data_cell\"></span></td>  <td class=\"input_table r4 c4\"><span class=\"data_cell\"></span></td>  <td class=\"input_table r4 c5\"><span class=\"data_cell\"></span></td>  <td class=\"input_table r4 c6\"><span class=\"data_cell\"></span></td>  <td class=\"input_table r4 c7\"><span class=\"data_cell\"></span></td> </tr> <tr class=\"input_table r5\"><th class=\"input_table r5 c0\"><span class=\"table_label\">Significant Digits (#2)</span></th>  <td class=\"input_table r5 c1\"><span class=\"data_cell\">XXXX</span></td>  <td class=\"input_table r5 c2\"><span class=\"data_cell\"></span></td>  <td class=\"input_table r5 c3\"><span class=\"data_cell\"></span></td>  <td class=\"input_table r5 c4\"><span class=\"data_cell\"></span></td>  <td class=\"input_table r5 c5\"><span class=\"data_cell\"></span></td>  <td class=\"input_table r5 c6\"><span class=\"data_cell\"></span></td>  <td class=\"input_table r5 c7\"><span class=\"data_cell\"></span></td> </tr> <tr class=\"input_table r6\"><th class=\"input_table r6 c0\"><span class=\"table_label\">Decimals (#2)</span></th>  <td class=\"input_table r6 c1\"><span class=\"data_cell\">XXXX</span></td>  <td class=\"input_table r6 c2\"><span class=\"data_cell\"></span></td>  <td class=\"input_table r6 c3\"><span class=\"data_cell\"></span></td>  <td class=\"input_table r6 c4\"><span class=\"data_cell\"></span></td>  <td class=\"input_table r6 c5\"><span class=\"data_cell\"></span></td>  <td class=\"input_table r6 c6\"><span class=\"data_cell\"></span></td>  <td class=\"input_table r6 c7\"><span class=\"data_cell\"></span></td> </tr></tbody></table>'))"
   ]
  },
  {
   "cell_type": "markdown",
   "id": "6515a7f7",
   "metadata": {
    "editable": false
   },
   "source": [
    "  1. Using a metric ruler measure the length, width and height of each metal block. Record the measurements with the proper number of digits in the table above (Table 1).\n",
    "  2. Obtain a 50 mL plastic graduated cylinder. Fill it about ½ full with water. Carefully record this initial volume in the table above.\n",
    "  3. Tipping the cylinder slightly, gently slide your first metal block into the cylinder so that no water drops splash out or get stuck above the water on the sides. Carefully record this final volume in your table.\n",
    "  4. Remove your metal block from the graduated cylinder and dry the block completely.\n",
    "  5. Repeat the measurements using the graduated cylinder with your second block. Dry this block completely when done.\n",
    "  6. Tare your bench top balance (it should read zero), then place each block on the balance and record the mass of the block in the table.\n",
    "  6. <span style=\"color:blue;\">After verifying with your instructor that you recorded the measurements properly</span>, note the number of significant figures and decimal places for each of the measured values."
   ]
  },
  {
   "cell_type": "markdown",
   "id": "69642e53",
   "metadata": {
    "editable": false
   },
   "source": [
    "### Liquid water near room temperature\n",
    "Use the table below to record your measurements on water."
   ]
  },
  {
   "cell_type": "code",
   "execution_count": 11,
   "id": "2ee204ab",
   "metadata": {
    "editable": false
   },
   "outputs": [
    {
     "data": {
      "text/html": [
       "<table class=\"input_table\" id=\"it_1626464354599\"><caption>Table 2: Measurements of water</caption><tbody> <tr class=\"input_table r0\">  <th class=\"input_table r0 c0\"><select class=\"form-control table-actions\" onchange=\"var lastvalue = this.value;this.value = &quot;Table Actions&quot;;if(lastvalue==&quot;Edit Data&quot;){edit_input_table(&quot;it_1626464354599&quot;);}if(lastvalue==&quot;Data to Pandas...&quot;){data_table_to_Pandas(&quot;it_1626464354599&quot;);}\"><option title=\"Things you can do to this table.\">Table Actions</option><option title=\"Start editing the data.\">Edit Data</option><option title=\"Create a Panda DataFrame from table.\">Data to Pandas...</option></select></th><th class=\"input_table r0 c1\"><span class=\"table_label\">Volume in Grad. Cyl. (mL)</span></th><th class=\"input_table r0 c2\"><span class=\"table_label\">Mass in Cyl. (g)</span></th><th class=\"input_table r0 c3\"><span class=\"table_label\">Buret Initial (mL)</span></th><th class=\"input_table r0 c4\"><span class=\"table_label\">Buret Final (mL)</span></th><th class=\"input_table r0 c5\"><span class=\"table_label\">Mass water delivered (g)</span></th> </tr> <tr class=\"input_table r1\"><th class=\"input_table r1 c0\"><span class=\"table_label\">Measurement</span></th>  <td class=\"input_table r1 c1\"><span class=\"data_cell\"></span></td>  <td class=\"input_table r1 c2\"><span class=\"data_cell\"></span></td>  <td class=\"input_table r1 c3\"><span class=\"data_cell\"></span></td>  <td class=\"input_table r1 c4\"><span class=\"data_cell\"></span></td>  <td class=\"input_table r1 c5\"><span class=\"data_cell\"></span></td> </tr> <tr class=\"input_table r2\"><th class=\"input_table r2 c0\"><span class=\"table_label\">Significant Digits</span></th>  <td class=\"input_table r2 c1\"><span class=\"data_cell\"></span></td>  <td class=\"input_table r2 c2\"><span class=\"data_cell\"></span></td>  <td class=\"input_table r2 c3\"><span class=\"data_cell\"></span></td>  <td class=\"input_table r2 c4\"><span class=\"data_cell\"></span></td>  <td class=\"input_table r2 c5\"><span class=\"data_cell\"></span></td> </tr> <tr class=\"input_table r3\"><th class=\"input_table r3 c0\"><span class=\"table_label\">Decimals</span></th>  <td class=\"input_table r3 c1\"><span class=\"data_cell\"></span></td>  <td class=\"input_table r3 c2\"><span class=\"data_cell\"></span></td>  <td class=\"input_table r3 c3\"><span class=\"data_cell\"></span></td>  <td class=\"input_table r3 c4\"><span class=\"data_cell\"></span></td>  <td class=\"input_table r3 c5\"><span class=\"data_cell\"></span></td> </tr></tbody></table>"
      ],
      "text/plain": [
       "<IPython.core.display.HTML object>"
      ]
     },
     "metadata": {},
     "output_type": "display_data"
    }
   ],
   "source": [
    "# If no data table appears in the output of this cell, run the cell to display the table.\n",
    "\n",
    "from IPython.display import HTML\n",
    "try:\n",
    "    import input_table\n",
    "except (ImportError, FileNotFoundError) as e:\n",
    "    print(\"Table editing will not work because `jupyter_datainputtable` module is not installed in python kernel\")\n",
    "display(HTML('<table class=\"input_table\" id=\"it_1626464354599\"><caption>Table 2: Measurements of water</caption><tbody> <tr class=\"input_table r0\">  <th class=\"input_table r0 c0\"><select class=\"form-control table-actions\" onchange=\"var lastvalue = this.value;this.value = &quot;Table Actions&quot;;if(lastvalue==&quot;Edit Data&quot;){edit_input_table(&quot;it_1626464354599&quot;);}if(lastvalue==&quot;Data to Pandas...&quot;){data_table_to_Pandas(&quot;it_1626464354599&quot;);}\"><option title=\"Things you can do to this table.\">Table Actions</option><option title=\"Start editing the data.\">Edit Data</option><option title=\"Create a Panda DataFrame from table.\">Data to Pandas...</option></select></th><th class=\"input_table r0 c1\"><span class=\"table_label\">Volume in Grad. Cyl. (mL)</span></th><th class=\"input_table r0 c2\"><span class=\"table_label\">Mass in Cyl. (g)</span></th><th class=\"input_table r0 c3\"><span class=\"table_label\">Buret Initial (mL)</span></th><th class=\"input_table r0 c4\"><span class=\"table_label\">Buret Final (mL)</span></th><th class=\"input_table r0 c5\"><span class=\"table_label\">Mass water delivered (g)</span></th> </tr> <tr class=\"input_table r1\"><th class=\"input_table r1 c0\"><span class=\"table_label\">Measurement</span></th>  <td class=\"input_table r1 c1\"><span class=\"data_cell\"></span></td>  <td class=\"input_table r1 c2\"><span class=\"data_cell\"></span></td>  <td class=\"input_table r1 c3\"><span class=\"data_cell\"></span></td>  <td class=\"input_table r1 c4\"><span class=\"data_cell\"></span></td>  <td class=\"input_table r1 c5\"><span class=\"data_cell\"></span></td> </tr> <tr class=\"input_table r2\"><th class=\"input_table r2 c0\"><span class=\"table_label\">Significant Digits</span></th>  <td class=\"input_table r2 c1\"><span class=\"data_cell\"></span></td>  <td class=\"input_table r2 c2\"><span class=\"data_cell\"></span></td>  <td class=\"input_table r2 c3\"><span class=\"data_cell\"></span></td>  <td class=\"input_table r2 c4\"><span class=\"data_cell\"></span></td>  <td class=\"input_table r2 c5\"><span class=\"data_cell\"></span></td> </tr> <tr class=\"input_table r3\"><th class=\"input_table r3 c0\"><span class=\"table_label\">Decimals</span></th>  <td class=\"input_table r3 c1\"><span class=\"data_cell\"></span></td>  <td class=\"input_table r3 c2\"><span class=\"data_cell\"></span></td>  <td class=\"input_table r3 c3\"><span class=\"data_cell\"></span></td>  <td class=\"input_table r3 c4\"><span class=\"data_cell\"></span></td>  <td class=\"input_table r3 c5\"><span class=\"data_cell\"></span></td> </tr></tbody></table>'))"
   ]
  },
  {
   "cell_type": "markdown",
   "id": "ca509818",
   "metadata": {
    "editable": false
   },
   "source": [
    "  1. Find your 10 mL graduated cylinder. Make sure it is clean and dry. Place it on your bench top balance and tare it. Remove it from the balance. <span style=\"color:blue;\">The balance should not be used for anything else until you complete your measurement in step 3.</span>\n",
    "  2. Put between 9 and 10 mL of deionized water in your 10 mL graduated cylinder. Carefully record the actual volume in your table.\n",
    "  3. Gently place the graduated cylinder with water back on the balance. Record the mass of the water contained in the graduated cylinder in the table above (Table 2).\n",
    "  4. Find a 50 mL or larger beaker in your drawer. Fill your buret about 2/3 full with deionized water as demonstrated by your instructor. Use the beaker to collect waste water used to run the air bubble out of the tip.\n",
    "  5. Find your smallest beaker (30 mL). Make sure it is clean and dry. Tare it on your bench top balance.\n",
    "  6. Carefully record the initial reading of your buret in your table. Notice that the numbers increase downwards (half-way between 25 and 26 is 25.5 not 26.5).\n",
    "  7. Place the small tared beaker under your buret and using the graduations on the buret as a guide deliver 10 – 15 mL of water into the beaker <span style=\"color:blue;\">(do this based on the buret readings)</span>. Carefully record the final reading of the buret in your table.\n",
    "  8. Gently transfer the beaker with water back onto the balance. Record the mass of the water contained in the beaker in your table.\n",
    "  9. <span style=\"color:blue;\">After verifying with your instructor that you recorded the measurements properly</span>, note the number of significant figures and decimal places for each of the measured values."
   ]
  },
  {
   "cell_type": "markdown",
   "id": "b6d348ef",
   "metadata": {
    "editable": false
   },
   "source": [
    "## Calculations\n",
    "### Significant Digits in Calculations\n",
    "As you verified in the pre-lab calculations, numbers that represent a range of values (have uncertainty) yield calculated results that also represent a range of values. The rules for handling significant digits in calculations ensure that the right-most digit kept in the result of a calculation is the only uncertain digit, with an uncertainty of about ±1 in the last digit. You can verify the rules by calculating the range of values produced in a calculation with uncertain numbers.\n",
    "\n",
    "_Addition and Subtraction_\n",
    "  1. Line up the decimal places of the numbers. \n",
    "  2. Do the addition or subtraction. \n",
    "  3. Round to the least number of decimals, while rounding properly. Note: rounding up for a dropped digit of 5 is OK since that is what calculators do. Technically you should round odd digits up and leave even digits unchanged if the dropped digit is 5. \n",
    "  \n",
    "<table>\n",
    "    <tr><td>Example: </td><td style=\"text-align:left;\">1.2345</td></tr>\n",
    "    <tr><td style=\"text-align:right;\">+</td><td style=\"text-align:left;border-bottom:solid;\">1.230</td></tr>\n",
    "    <tr><td></td><td style=\"text-align:left;\">2.465 (calculator rounding)</td></tr>\n",
    "</table>\n",
    "\n",
    "_Multiplication and Division_\n",
    "  1. Perform the multiplication or division.\n",
    "  2. Count the number of significant figures in each of the factors.\n",
    "  3. Round the calculated result to the same number of significant figures as the factor with the least number of significant figures.\n",
    "  \n",
    "Example: (100.0)(63.7) = 6370 or better $6.37 \\times 10^3$.\n",
    "\n",
    "_Multistep Calculations that Combine Addition or Subtraction with Multiplication or Division_\n",
    "  1. At the end of each step evaluate the number of significant figures and decimal places the calculation yields. Record this in some way.\n",
    "  2. Keep at least one digit beyond the last significant figure to use in the next step of the calculation. This avoids rounding errors.\n",
    "  3. Use the recorded significant figures and decimal places from the previous step to evaluate the number of significant figures yielded by the most recent step.\n",
    "\n",
    "Example: (1.2345 + 1.230)(2000.0) = (2.464|5)(2000.0) = 4929.0000 (w/SF $4.929 \\times 10^3$)\n",
    "\n",
    "but because the addition only gave four significant figures (indicated by the vertical line between the 4 and 5) the final answer can only have four significant figures. The correct answer is 4929. or better $4.929 \\times 10^3$. If you had calculated (2.465)(2000.0) = $4.930 \\times 10^3$ you would be at the upper limit of the range for the correct answer, but still OK."
   ]
  },
  {
   "cell_type": "markdown",
   "id": "afa7623f",
   "metadata": {
    "editable": false
   },
   "source": [
    "### Recording calculations in this notebook (using the computer as a calculator with super-powers)\n",
    "We will only use four of the \"super-powers\" in this notebook: the ability to copy numbers from the tables you recorded them in; the ability to record what calculations were done and label them; the ability to do calculations with units in the equations; the fancy output of results (nearly typeset quality mathematical expressions.\n",
    "\n",
    "Commands telling the computer what to do are entered into grey cells called `code` cells. You may have noticed some locked ones that you cannot edit immediately above the tables you filled in. Those cells contain the commands to create and update the tables. You can make two basic kinds of entries in `code` cells: \n",
    "  * _Comments_ are any text following a `#` symbol. Each new comment line must begin with a `#`. The computer ignores comments. You will use comments to label your calculations.\n",
    "  * _Commands_ are anything that is not a comment. The computer will try to run the operations specified by the command and return the result to you. Just like your calculator it will return an error if you make a typo. Initially we will limit ourselves to calculator like operations.\n",
    "  \n",
    "You enter calculations in the same format you would into your calculator with two exceptions:\n",
    "  * On most calculators `^` is used to indicate raising to a power. The computer uses `**` instead.\n",
    "  * On most calculators scientific notation is indicated by an `EE` key. For example, 1.2`EE`5 is understood by the calculator as $1.2 \\times 10^5$, which is often displayed as `1.2e5`. On the computer you just enter `1.2e5` directly.\n",
    "  \n",
    "The cells below demonstrate some of this. Select a cell and click on the \"Run\" button near the top of the page to see how they work. You can edit the cells to try other things."
   ]
  },
  {
   "cell_type": "code",
   "execution_count": 16,
   "id": "d938ed47",
   "metadata": {},
   "outputs": [
    {
     "data": {
      "text/plain": [
       "2066.766666666667"
      ]
     },
     "execution_count": 16,
     "metadata": {},
     "output_type": "execute_result"
    }
   ],
   "source": [
    "# Example showing addition, division and scientific notation\n",
    "2e3 + 200.3/3"
   ]
  },
  {
   "cell_type": "code",
   "execution_count": 18,
   "id": "db0f9b0a",
   "metadata": {},
   "outputs": [
    {
     "data": {
      "text/plain": [
       "32000"
      ]
     },
     "execution_count": 18,
     "metadata": {},
     "output_type": "execute_result"
    }
   ],
   "source": [
    "# Multiplication and powers\n",
    "2000*(4**2)"
   ]
  },
  {
   "cell_type": "markdown",
   "id": "399b2929",
   "metadata": {
    "editable": false
   },
   "source": [
    "<span style=\"color:blue;\">Notice that just like your calculator, the computer does not keep track of significant digits.</span>"
   ]
  },
  {
   "cell_type": "markdown",
   "id": "f091b3a3",
   "metadata": {
    "editable": false
   },
   "source": [
    "_Calculations showing units_\n",
    "\n",
    "The computer understands how to do math with symbols as well as numbers. Thus we can include unit symbols in our calculations. You still have to worry about the conversions.\n",
    "\n",
    "To include units we have to tell the computer what symbols we are going to use and to treat the symbols as if they are positive real numbers. To define the units of cm (centimeters) and m (meters) we would use the command `var('cm m', positive=True)`. Notice that each unit is separated by a space in this command. In a mathematical expression units multiply the number they are associated with. Try the examples below."
   ]
  },
  {
   "cell_type": "code",
   "execution_count": 25,
   "id": "85e5832f",
   "metadata": {},
   "outputs": [
    {
     "data": {
      "text/latex": [
       "$\\displaystyle 5.0 cm + 1.2 m$"
      ],
      "text/plain": [
       "5.0*cm + 1.2*m"
      ]
     },
     "execution_count": 25,
     "metadata": {},
     "output_type": "execute_result"
    }
   ],
   "source": [
    "var('cm m', positive=True) # units of centimeters and meters\n",
    "# You will notice that the computer understands that you cannot\n",
    "# add different units together.\n",
    "5.00*cm + 1.2*m"
   ]
  },
  {
   "cell_type": "code",
   "execution_count": 23,
   "id": "965d09cd",
   "metadata": {},
   "outputs": [
    {
     "data": {
      "text/latex": [
       "$\\displaystyle 1.25 m$"
      ],
      "text/plain": [
       "1.25*m"
      ]
     },
     "execution_count": 23,
     "metadata": {},
     "output_type": "execute_result"
    }
   ],
   "source": [
    "# However, if you properly convert the units it can do the addition.\n",
    "5.00*cm*(1*m/(100*cm))+1.2*m"
   ]
  },
  {
   "cell_type": "code",
   "execution_count": 24,
   "id": "b843fcb6",
   "metadata": {},
   "outputs": [
    {
     "data": {
      "text/latex": [
       "$\\displaystyle 125.0 cm$"
      ],
      "text/plain": [
       "125.0*cm"
      ]
     },
     "execution_count": 24,
     "metadata": {},
     "output_type": "execute_result"
    }
   ],
   "source": [
    "# Alternatively\n",
    "5.00*cm + 1.2*m*(100*cm/m)"
   ]
  },
  {
   "cell_type": "markdown",
   "id": "a136b2a7",
   "metadata": {
    "editable": false
   },
   "source": [
    "<span style=\"color:blue;\">Notice that just like your calculator, the computer does not keep track of significant digits.</span>"
   ]
  },
  {
   "cell_type": "markdown",
   "id": "643d54b6",
   "metadata": {
    "editable": false
   },
   "source": [
    "### Calculations with your data\n",
    "Write out your calculations directly in this notebook.\n",
    " * To avoid typing errors copy the numbers from the tables you recorded them in using __Copy and Paste__.\n",
    " * Make sure that each calculation is labeled.\n",
    " * Include units.\n",
    " * Keep track of significant figures.\n",
    " * <span style=\"color:blue;\">Record the results, with the correct number of digits, in the tables at the end.</span>\n",
    "\n",
    "_Calculations for the metal blocks_\n",
    "  1. Calculate the volume of the metal blocks based on the ruler measurements. `V = l*w*h`, where V = volume, l = length, w = width and h = height. Use the code cell immediately below. __Include Units__. If you ran the example cells since opening this notebook the units of `cm` and `m` are already defined."
   ]
  },
  {
   "cell_type": "code",
   "execution_count": null,
   "id": "17a88673",
   "metadata": {},
   "outputs": [],
   "source": [
    "# Use this cell to calculate the volume of sample 1.\n"
   ]
  },
  {
   "cell_type": "code",
   "execution_count": null,
   "id": "7bf3ff63",
   "metadata": {},
   "outputs": [],
   "source": [
    "# Use this cell to calculate the volume of sample 2."
   ]
  },
  {
   "cell_type": "markdown",
   "id": "e494b687",
   "metadata": {
    "editable": false
   },
   "source": [
    "  2. Calculate the density of the metal blocks based on your mass measurement and the volume calculated from the ruler measurements. `D = m/V`, where D = density, m = mass and V = volume. "
   ]
  },
  {
   "cell_type": "code",
   "execution_count": null,
   "id": "31a462fa",
   "metadata": {},
   "outputs": [],
   "source": []
  },
  {
   "cell_type": "code",
   "execution_count": null,
   "id": "70b9a7f9",
   "metadata": {},
   "outputs": [],
   "source": []
  },
  {
   "cell_type": "markdown",
   "id": "71311700",
   "metadata": {
    "editable": false
   },
   "source": [
    "  3. Calculate the volume of the blocks measured by water displacement (difference between the final and initial volumes). _You will need to define the unit of mL_."
   ]
  },
  {
   "cell_type": "code",
   "execution_count": null,
   "id": "af2ccb67",
   "metadata": {},
   "outputs": [],
   "source": []
  },
  {
   "cell_type": "code",
   "execution_count": null,
   "id": "deb0ebdc",
   "metadata": {},
   "outputs": [],
   "source": []
  },
  {
   "cell_type": "markdown",
   "id": "4696b1a9",
   "metadata": {
    "editable": false
   },
   "source": [
    "   4. Calculate the density of the metal blocks using the volume measured by water displacement. Note that $1 cm^3 = 1 mL$."
   ]
  },
  {
   "cell_type": "code",
   "execution_count": null,
   "id": "a62590b5",
   "metadata": {},
   "outputs": [],
   "source": []
  },
  {
   "cell_type": "code",
   "execution_count": null,
   "id": "967d4d0c",
   "metadata": {},
   "outputs": [],
   "source": []
  },
  {
   "cell_type": "markdown",
   "id": "3b83dbdd",
   "metadata": {
    "editable": false
   },
   "source": [
    "_Calculations for water_\n",
    "  1. Calculate the density of the water using your graduated cylinder measurements. If you need additional _code cells_ you can add them using the \"Insert\" menu."
   ]
  },
  {
   "cell_type": "code",
   "execution_count": null,
   "id": "b244901b",
   "metadata": {},
   "outputs": [],
   "source": []
  },
  {
   "cell_type": "markdown",
   "id": "0d518a27",
   "metadata": {
    "editable": false
   },
   "source": [
    "  2. Calculate the volume of water delivered from the buret. "
   ]
  },
  {
   "cell_type": "code",
   "execution_count": null,
   "id": "65feac36",
   "metadata": {},
   "outputs": [],
   "source": []
  },
  {
   "cell_type": "markdown",
   "id": "83975fed",
   "metadata": {
    "editable": false
   },
   "source": [
    "  3. Calculate the density of the water using your buret measurements. "
   ]
  },
  {
   "cell_type": "code",
   "execution_count": null,
   "id": "3e68946b",
   "metadata": {},
   "outputs": [],
   "source": []
  },
  {
   "cell_type": "code",
   "execution_count": 3,
   "id": "b2641341",
   "metadata": {
    "editable": false
   },
   "outputs": [
    {
     "data": {
      "text/html": [
       "<table class=\"input_table\" id=\"it_1626703433711\"><caption>Table 3: Results of calculations for solid blocks.</caption><tbody> <tr class=\"input_table r0\">  <th class=\"input_table r0 c0\"><select class=\"form-control table-actions\" onchange=\"var lastvalue = this.value;this.value = &quot;Table Actions&quot;;if(lastvalue==&quot;Edit Data&quot;){edit_input_table(&quot;it_1626703433711&quot;);}if(lastvalue==&quot;Data to Pandas...&quot;){data_table_to_Pandas(&quot;it_1626703433711&quot;);}\"><option title=\"Things you can do to this table.\">Table Actions</option><option title=\"Start editing the data.\">Edit Data</option><option title=\"Create a Panda DataFrame from table.\">Data to Pandas...</option></select></th><th class=\"input_table r0 c1\"><span class=\"table_label\">Element</span></th><th class=\"input_table r0 c2\"><span class=\"table_label\">Mass (g)</span></th><th class=\"input_table r0 c3\"><span class=\"table_label\">V using ruler (mL)</span></th><th class=\"input_table r0 c4\"><span class=\"table_label\">V using grad. cyl. (mL)</span></th><th class=\"input_table r0 c5\"><span class=\"table_label\">D using ruler (g/mL)</span></th><th class=\"input_table r0 c6\"><span class=\"table_label\">D using grad. cyl. (g/mL)</span></th> </tr> <tr class=\"input_table r1\"><th class=\"input_table r1 c0\"><span class=\"table_label\">Sample 1</span></th>  <td class=\"input_table r1 c1\"><span class=\"data_cell\">from table 1</span></td>  <td class=\"input_table r1 c2\"><span class=\"data_cell\">from table 1</span></td>  <td class=\"input_table r1 c3\"><span class=\"data_cell\"></span></td>  <td class=\"input_table r1 c4\"><span class=\"data_cell\"></span></td>  <td class=\"input_table r1 c5\"><span class=\"data_cell\"></span></td>  <td class=\"input_table r1 c6\"><span class=\"data_cell\"></span></td> </tr> <tr class=\"input_table r2\"><th class=\"input_table r2 c0\"><span class=\"table_label\">Sample 2</span></th>  <td class=\"input_table r2 c1\"><span class=\"data_cell\">from table 1</span></td>  <td class=\"input_table r2 c2\"><span class=\"data_cell\">from table 1</span></td>  <td class=\"input_table r2 c3\"><span class=\"data_cell\"></span></td>  <td class=\"input_table r2 c4\"><span class=\"data_cell\"></span></td>  <td class=\"input_table r2 c5\"><span class=\"data_cell\"></span></td>  <td class=\"input_table r2 c6\"><span class=\"data_cell\"></span></td> </tr></tbody></table>"
      ],
      "text/plain": [
       "<IPython.core.display.HTML object>"
      ]
     },
     "metadata": {},
     "output_type": "display_data"
    }
   ],
   "source": [
    "# If no data table appears in the output of this cell, run the cell to display the table.\n",
    "\n",
    "from IPython.display import HTML\n",
    "try:\n",
    "    import input_table\n",
    "except (ImportError, FileNotFoundError) as e:\n",
    "    print(\"Table editing will not work because `jupyter_datainputtable` module is not installed in python kernel\")\n",
    "display(HTML('<table class=\"input_table\" id=\"it_1626703433711\"><caption>Table 3: Results of calculations for solid blocks.</caption><tbody> <tr class=\"input_table r0\">  <th class=\"input_table r0 c0\"><select class=\"form-control table-actions\" onchange=\"var lastvalue = this.value;this.value = &quot;Table Actions&quot;;if(lastvalue==&quot;Edit Data&quot;){edit_input_table(&quot;it_1626703433711&quot;);}if(lastvalue==&quot;Data to Pandas...&quot;){data_table_to_Pandas(&quot;it_1626703433711&quot;);}\"><option title=\"Things you can do to this table.\">Table Actions</option><option title=\"Start editing the data.\">Edit Data</option><option title=\"Create a Panda DataFrame from table.\">Data to Pandas...</option></select></th><th class=\"input_table r0 c1\"><span class=\"table_label\">Element</span></th><th class=\"input_table r0 c2\"><span class=\"table_label\">Mass (g)</span></th><th class=\"input_table r0 c3\"><span class=\"table_label\">V using ruler (mL)</span></th><th class=\"input_table r0 c4\"><span class=\"table_label\">V using grad. cyl. (mL)</span></th><th class=\"input_table r0 c5\"><span class=\"table_label\">D using ruler (g/mL)</span></th><th class=\"input_table r0 c6\"><span class=\"table_label\">D using grad. cyl. (g/mL)</span></th> </tr> <tr class=\"input_table r1\"><th class=\"input_table r1 c0\"><span class=\"table_label\">Sample 1</span></th>  <td class=\"input_table r1 c1\"><span class=\"data_cell\">from table 1</span></td>  <td class=\"input_table r1 c2\"><span class=\"data_cell\">from table 1</span></td>  <td class=\"input_table r1 c3\"><span class=\"data_cell\"></span></td>  <td class=\"input_table r1 c4\"><span class=\"data_cell\"></span></td>  <td class=\"input_table r1 c5\"><span class=\"data_cell\"></span></td>  <td class=\"input_table r1 c6\"><span class=\"data_cell\"></span></td> </tr> <tr class=\"input_table r2\"><th class=\"input_table r2 c0\"><span class=\"table_label\">Sample 2</span></th>  <td class=\"input_table r2 c1\"><span class=\"data_cell\">from table 1</span></td>  <td class=\"input_table r2 c2\"><span class=\"data_cell\">from table 1</span></td>  <td class=\"input_table r2 c3\"><span class=\"data_cell\"></span></td>  <td class=\"input_table r2 c4\"><span class=\"data_cell\"></span></td>  <td class=\"input_table r2 c5\"><span class=\"data_cell\"></span></td>  <td class=\"input_table r2 c6\"><span class=\"data_cell\"></span></td> </tr></tbody></table>'))"
   ]
  },
  {
   "cell_type": "code",
   "execution_count": 5,
   "id": "044ec5f4",
   "metadata": {
    "editable": false
   },
   "outputs": [
    {
     "data": {
      "text/html": [
       "<table class=\"input_table\" id=\"it_1626704709129\"><caption>Table 4: Density of water calculations.</caption><tbody> <tr class=\"input_table r0\">  <th class=\"input_table r0 c0\"><select class=\"form-control table-actions\" onchange=\"var lastvalue = this.value;this.value = &quot;Table Actions&quot;;if(lastvalue==&quot;Edit Data&quot;){edit_input_table(&quot;it_1626704709129&quot;);}if(lastvalue==&quot;Data to Pandas...&quot;){data_table_to_Pandas(&quot;it_1626704709129&quot;);}\"><option title=\"Things you can do to this table.\">Table Actions</option><option title=\"Start editing the data.\">Edit Data</option><option title=\"Create a Panda DataFrame from table.\">Data to Pandas...</option></select></th><th class=\"input_table r0 c1\"><span class=\"table_label\">Mass of water (g)</span></th><th class=\"input_table r0 c2\"><span class=\"table_label\">V of water (mL)</span></th><th class=\"input_table r0 c3\"><span class=\"table_label\">Density (g/mL)</span></th> </tr> <tr class=\"input_table r1\"><th class=\"input_table r1 c0\"><span class=\"table_label\">Using grad. cyl.</span></th>  <td class=\"input_table r1 c1\"><span class=\"data_cell\">from table 2</span></td>  <td class=\"input_table r1 c2\"><span class=\"data_cell\">from table 2</span></td>  <td class=\"input_table r1 c3\"><span class=\"data_cell\"></span></td> </tr> <tr class=\"input_table r2\"><th class=\"input_table r2 c0\"><span class=\"table_label\">Using buret</span></th>  <td class=\"input_table r2 c1\"><span class=\"data_cell\">from table 2</span></td>  <td class=\"input_table r2 c2\"><span class=\"data_cell\"></span></td>  <td class=\"input_table r2 c3\"><span class=\"data_cell\"></span></td> </tr></tbody></table>"
      ],
      "text/plain": [
       "<IPython.core.display.HTML object>"
      ]
     },
     "metadata": {},
     "output_type": "display_data"
    }
   ],
   "source": [
    "# If no data table appears in the output of this cell, run the cell to display the table.\n",
    "\n",
    "from IPython.display import HTML\n",
    "try:\n",
    "    import input_table\n",
    "except (ImportError, FileNotFoundError) as e:\n",
    "    print(\"Table editing will not work because `jupyter_datainputtable` module is not installed in python kernel\")\n",
    "display(HTML('<table class=\"input_table\" id=\"it_1626704709129\"><caption>Table 4: Density of water calculations.</caption><tbody> <tr class=\"input_table r0\">  <th class=\"input_table r0 c0\"><select class=\"form-control table-actions\" onchange=\"var lastvalue = this.value;this.value = &quot;Table Actions&quot;;if(lastvalue==&quot;Edit Data&quot;){edit_input_table(&quot;it_1626704709129&quot;);}if(lastvalue==&quot;Data to Pandas...&quot;){data_table_to_Pandas(&quot;it_1626704709129&quot;);}\"><option title=\"Things you can do to this table.\">Table Actions</option><option title=\"Start editing the data.\">Edit Data</option><option title=\"Create a Panda DataFrame from table.\">Data to Pandas...</option></select></th><th class=\"input_table r0 c1\"><span class=\"table_label\">Mass of water (g)</span></th><th class=\"input_table r0 c2\"><span class=\"table_label\">V of water (mL)</span></th><th class=\"input_table r0 c3\"><span class=\"table_label\">Density (g/mL)</span></th> </tr> <tr class=\"input_table r1\"><th class=\"input_table r1 c0\"><span class=\"table_label\">Using grad. cyl.</span></th>  <td class=\"input_table r1 c1\"><span class=\"data_cell\">from table 2</span></td>  <td class=\"input_table r1 c2\"><span class=\"data_cell\">from table 2</span></td>  <td class=\"input_table r1 c3\"><span class=\"data_cell\"></span></td> </tr> <tr class=\"input_table r2\"><th class=\"input_table r2 c0\"><span class=\"table_label\">Using buret</span></th>  <td class=\"input_table r2 c1\"><span class=\"data_cell\">from table 2</span></td>  <td class=\"input_table r2 c2\"><span class=\"data_cell\"></span></td>  <td class=\"input_table r2 c3\"><span class=\"data_cell\"></span></td> </tr></tbody></table>'))"
   ]
  }
 ],
 "metadata": {
  "kernelspec": {
   "display_name": "Python 3",
   "language": "python",
   "name": "python3"
  },
  "language_info": {
   "codemirror_mode": {
    "name": "ipython",
    "version": 3
   },
   "file_extension": ".py",
   "mimetype": "text/x-python",
   "name": "python",
   "nbconvert_exporter": "python",
   "pygments_lexer": "ipython3",
   "version": "3.8.10"
  }
 },
 "nbformat": 4,
 "nbformat_minor": 5
}
